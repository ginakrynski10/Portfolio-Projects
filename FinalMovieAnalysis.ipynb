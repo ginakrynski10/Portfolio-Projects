{
 "cells": [
  {
   "cell_type": "markdown",
   "metadata": {},
   "source": [
    "#### ISA 414 A \n",
    "#### Final Project\n",
    "#### Friday, May 6th, 2022\n",
    "#### Gina Krynski\n"
   ]
  },
  {
   "cell_type": "markdown",
   "metadata": {},
   "source": [
    "### Data Cleaning Begins"
   ]
  },
  {
   "cell_type": "code",
   "execution_count": 4,
   "metadata": {},
   "outputs": [
    {
     "name": "stdout",
     "output_type": "stream",
     "text": [
      "                       movie_title release_date      genre mpaa_rating  \\\n",
      "0  Snow White and the Seven Dwarfs   1937-12-21    Musical           G   \n",
      "1                        Pinocchio   1940-02-09  Adventure           G   \n",
      "2                         Fantasia   1940-11-13    Musical           G   \n",
      "3                Song of the South   1946-11-12  Adventure           G   \n",
      "4                       Cinderella   1950-02-15      Drama           G   \n",
      "\n",
      "   total_gross  inflation_adjusted_gross  \n",
      "0    184925485                5228953251  \n",
      "1     84300000                2188229052  \n",
      "2     83320000                2187090808  \n",
      "3     65000000                1078510579  \n",
      "4     85000000                 920608730  \n"
     ]
    }
   ],
   "source": [
    "# Importing imdb disney movie data set into notebook\n",
    "import pandas as pd\n",
    "movies = pd.read_csv(\"disney_movies.csv\")\n",
    "\n",
    "# Looking at an overview of the data set\n",
    "# Displaying the first 5 rows of the data set \n",
    "print(movies.head())"
   ]
  },
  {
   "cell_type": "code",
   "execution_count": 7,
   "metadata": {},
   "outputs": [
    {
     "data": {
      "text/plain": [
       "movie_title                 object\n",
       "release_date                object\n",
       "genre                       object\n",
       "mpaa_rating                 object\n",
       "total_gross                  int64\n",
       "inflation_adjusted_gross     int64\n",
       "dtype: object"
      ]
     },
     "execution_count": 7,
     "metadata": {},
     "output_type": "execute_result"
    }
   ],
   "source": [
    "# Examining the variable types of the data set\n",
    "movies.dtypes\n"
   ]
  },
  {
   "cell_type": "code",
   "execution_count": 8,
   "metadata": {},
   "outputs": [
    {
     "name": "stdout",
     "output_type": "stream",
     "text": [
      "<class 'pandas.core.frame.DataFrame'>\n",
      "RangeIndex: 579 entries, 0 to 578\n",
      "Data columns (total 6 columns):\n",
      " #   Column                    Non-Null Count  Dtype \n",
      "---  ------                    --------------  ----- \n",
      " 0   movie_title               579 non-null    object\n",
      " 1   release_date              579 non-null    object\n",
      " 2   genre                     562 non-null    object\n",
      " 3   mpaa_rating               523 non-null    object\n",
      " 4   total_gross               579 non-null    int64 \n",
      " 5   inflation_adjusted_gross  579 non-null    int64 \n",
      "dtypes: int64(2), object(4)\n",
      "memory usage: 27.3+ KB\n"
     ]
    },
    {
     "data": {
      "text/plain": [
       "movie_title                  0\n",
       "release_date                 0\n",
       "genre                       17\n",
       "mpaa_rating                 56\n",
       "total_gross                  0\n",
       "inflation_adjusted_gross     0\n",
       "dtype: int64"
      ]
     },
     "execution_count": 8,
     "metadata": {},
     "output_type": "execute_result"
    }
   ],
   "source": [
    "# Seeing how many null values are in a column \n",
    "movies.info()\n",
    "\n",
    "# Sum up the null values for each variable\n",
    "movies.isnull().sum()"
   ]
  },
  {
   "cell_type": "code",
   "execution_count": 9,
   "metadata": {},
   "outputs": [],
   "source": [
    "# Cleaning up the formatting of the release date variable\n",
    "movies['release_date'] = pd.to_datetime(movies['release_date'], format='%Y-%m-%d') # changing year format \n",
    "\n",
    "# Keeping all movies released in 2010 and earlier\n",
    "old_movies = movies[movies['release_date'] < '2010-01-01']\n",
    "\n",
    "# Dropping the mpaa_rating column and the total gross profit column\n",
    "clean_movies = old_movies.drop(columns=['mpaa_rating', 'total_gross'])"
   ]
  },
  {
   "cell_type": "code",
   "execution_count": 10,
   "metadata": {},
   "outputs": [
    {
     "data": {
      "text/html": [
       "<div>\n",
       "<style scoped>\n",
       "    .dataframe tbody tr th:only-of-type {\n",
       "        vertical-align: middle;\n",
       "    }\n",
       "\n",
       "    .dataframe tbody tr th {\n",
       "        vertical-align: top;\n",
       "    }\n",
       "\n",
       "    .dataframe thead th {\n",
       "        text-align: right;\n",
       "    }\n",
       "</style>\n",
       "<table border=\"1\" class=\"dataframe\">\n",
       "  <thead>\n",
       "    <tr style=\"text-align: right;\">\n",
       "      <th></th>\n",
       "      <th>movie_title</th>\n",
       "      <th>release_date</th>\n",
       "      <th>genre</th>\n",
       "      <th>inflation_adjusted_gross</th>\n",
       "      <th>year</th>\n",
       "    </tr>\n",
       "  </thead>\n",
       "  <tbody>\n",
       "    <tr>\n",
       "      <th>0</th>\n",
       "      <td>Snow White and the Seven Dwarfs</td>\n",
       "      <td>1937-12-21</td>\n",
       "      <td>Musical</td>\n",
       "      <td>5228953251</td>\n",
       "      <td>1937</td>\n",
       "    </tr>\n",
       "    <tr>\n",
       "      <th>1</th>\n",
       "      <td>Pinocchio</td>\n",
       "      <td>1940-02-09</td>\n",
       "      <td>Adventure</td>\n",
       "      <td>2188229052</td>\n",
       "      <td>1940</td>\n",
       "    </tr>\n",
       "    <tr>\n",
       "      <th>2</th>\n",
       "      <td>Fantasia</td>\n",
       "      <td>1940-11-13</td>\n",
       "      <td>Musical</td>\n",
       "      <td>2187090808</td>\n",
       "      <td>1940</td>\n",
       "    </tr>\n",
       "    <tr>\n",
       "      <th>3</th>\n",
       "      <td>Song of the South</td>\n",
       "      <td>1946-11-12</td>\n",
       "      <td>Adventure</td>\n",
       "      <td>1078510579</td>\n",
       "      <td>1946</td>\n",
       "    </tr>\n",
       "    <tr>\n",
       "      <th>4</th>\n",
       "      <td>Cinderella</td>\n",
       "      <td>1950-02-15</td>\n",
       "      <td>Drama</td>\n",
       "      <td>920608730</td>\n",
       "      <td>1950</td>\n",
       "    </tr>\n",
       "  </tbody>\n",
       "</table>\n",
       "</div>"
      ],
      "text/plain": [
       "                       movie_title release_date      genre  \\\n",
       "0  Snow White and the Seven Dwarfs   1937-12-21    Musical   \n",
       "1                        Pinocchio   1940-02-09  Adventure   \n",
       "2                         Fantasia   1940-11-13    Musical   \n",
       "3                Song of the South   1946-11-12  Adventure   \n",
       "4                       Cinderella   1950-02-15      Drama   \n",
       "\n",
       "   inflation_adjusted_gross  year  \n",
       "0                5228953251  1937  \n",
       "1                2188229052  1940  \n",
       "2                2187090808  1940  \n",
       "3                1078510579  1946  \n",
       "4                 920608730  1950  "
      ]
     },
     "execution_count": 10,
     "metadata": {},
     "output_type": "execute_result"
    }
   ],
   "source": [
    "# making a column that contains only the release year of the movie \n",
    "# Release year column is a useful variable to include because it will make it easier to organize by decade later on in our exploratory data analysis\n",
    "clean_movies['year'] = pd.DatetimeIndex(clean_movies['release_date']).year\n",
    "clean_movies.head()\n",
    "\n"
   ]
  },
  {
   "cell_type": "markdown",
   "metadata": {},
   "source": [
    "### Exploratory Data Analysis Begins"
   ]
  },
  {
   "cell_type": "code",
   "execution_count": 11,
   "metadata": {},
   "outputs": [],
   "source": [
    "# Importing modules for more complex exploratory data analysis\n",
    "import numpy as np #library for calculations on Multidimensional Arrays\n",
    "from pylab import rcParams #libary for customizing the properties and default styles of Matplotlib\n",
    "import seaborn as sns #library for statistical data visualization\n",
    "import matplotlib.pyplot as plt #library that provides a MATLAB-like way of plotting\n",
    "sns.set(style='ticks', color_codes=True)\n",
    "sns.set(style='whitegrid')\n",
    "import statistics as stat #library for statistical data visualization"
   ]
  },
  {
   "cell_type": "code",
   "execution_count": 12,
   "metadata": {},
   "outputs": [
    {
     "data": {
      "text/html": [
       "<div>\n",
       "<style scoped>\n",
       "    .dataframe tbody tr th:only-of-type {\n",
       "        vertical-align: middle;\n",
       "    }\n",
       "\n",
       "    .dataframe tbody tr th {\n",
       "        vertical-align: top;\n",
       "    }\n",
       "\n",
       "    .dataframe thead th {\n",
       "        text-align: right;\n",
       "    }\n",
       "</style>\n",
       "<table border=\"1\" class=\"dataframe\">\n",
       "  <thead>\n",
       "    <tr style=\"text-align: right;\">\n",
       "      <th></th>\n",
       "      <th>inflation_adjusted_gross</th>\n",
       "      <th>year</th>\n",
       "    </tr>\n",
       "  </thead>\n",
       "  <tbody>\n",
       "    <tr>\n",
       "      <th>count</th>\n",
       "      <td>4.930000e+02</td>\n",
       "      <td>493.000000</td>\n",
       "    </tr>\n",
       "    <tr>\n",
       "      <th>mean</th>\n",
       "      <td>1.128053e+08</td>\n",
       "      <td>1995.405680</td>\n",
       "    </tr>\n",
       "    <tr>\n",
       "      <th>std</th>\n",
       "      <td>3.014775e+08</td>\n",
       "      <td>10.314059</td>\n",
       "    </tr>\n",
       "    <tr>\n",
       "      <th>min</th>\n",
       "      <td>0.000000e+00</td>\n",
       "      <td>1937.000000</td>\n",
       "    </tr>\n",
       "    <tr>\n",
       "      <th>25%</th>\n",
       "      <td>2.194184e+07</td>\n",
       "      <td>1992.000000</td>\n",
       "    </tr>\n",
       "    <tr>\n",
       "      <th>50%</th>\n",
       "      <td>5.137391e+07</td>\n",
       "      <td>1996.000000</td>\n",
       "    </tr>\n",
       "    <tr>\n",
       "      <th>75%</th>\n",
       "      <td>1.100584e+08</td>\n",
       "      <td>2002.000000</td>\n",
       "    </tr>\n",
       "    <tr>\n",
       "      <th>max</th>\n",
       "      <td>5.228953e+09</td>\n",
       "      <td>2009.000000</td>\n",
       "    </tr>\n",
       "  </tbody>\n",
       "</table>\n",
       "</div>"
      ],
      "text/plain": [
       "       inflation_adjusted_gross         year\n",
       "count              4.930000e+02   493.000000\n",
       "mean               1.128053e+08  1995.405680\n",
       "std                3.014775e+08    10.314059\n",
       "min                0.000000e+00  1937.000000\n",
       "25%                2.194184e+07  1992.000000\n",
       "50%                5.137391e+07  1996.000000\n",
       "75%                1.100584e+08  2002.000000\n",
       "max                5.228953e+09  2009.000000"
      ]
     },
     "execution_count": 12,
     "metadata": {},
     "output_type": "execute_result"
    }
   ],
   "source": [
    "# Retrieving the five number summary for the cleaned movie data set\n",
    "clean_movies.describe()\n",
    "\n",
    "# Ignore the year five number summary - does not make a whole lot of sense given the context of the year variable\n",
    "# Pay attention to the gross profit adjusted for inflation variable"
   ]
  },
  {
   "cell_type": "code",
   "execution_count": 13,
   "metadata": {},
   "outputs": [
    {
     "data": {
      "image/png": "[encoded data removed]",
      "text/plain": [
       "<Figure size 576x576 with 1 Axes>"
      ]
     },
     "metadata": {
      "needs_background": "light"
     },
     "output_type": "display_data"
    }
   ],
   "source": [
    "# Looking closer at the genre variable \n",
    "# visualizing the genre data \n",
    "plt.figure(figsize=(8,8))\n",
    "sns.countplot(y='genre', data=clean_movies, order=movies['genre'].value_counts().index)\n",
    "plt.show()\n",
    "\n",
    "# Comedy has the highest number of movies in it, followed by Adventure, Drama, Action, and Thriller/Suspense, etc. "
   ]
  },
  {
   "cell_type": "code",
   "execution_count": 14,
   "metadata": {},
   "outputs": [
    {
     "name": "stdout",
     "output_type": "stream",
     "text": [
      "                     inflation_adjusted_gross    year\n",
      "genre                                                \n",
      "Adventure                         16211995567  181684\n",
      "Comedy                            14886208716  345164\n",
      "Musical                            9526671539   29735\n",
      "Drama                              7094439940  195520\n",
      "Action                             2866691478   61857\n",
      "Thriller/Suspense                  2051807642   43968\n",
      "Romantic Comedy                    1697994194   41947\n",
      "Western                             424112558   11999\n",
      "Black Comedy                        156730475    5996\n",
      "Horror                              121030690    9972\n",
      "Concert/Performance                 114821678    4017\n",
      "Documentary                          92899224   18055\n"
     ]
    }
   ],
   "source": [
    "# Sorting genres of movies by gross profit \n",
    "top_genres = clean_movies.groupby(by='genre').sum().sort_values(by='inflation_adjusted_gross', ascending=False)\n",
    "print(top_genres)"
   ]
  },
  {
   "cell_type": "code",
   "execution_count": 15,
   "metadata": {},
   "outputs": [],
   "source": [
    "# Make a data frame of movies that are in the top five genres based on gross profit adjusted for inflation \n",
    "top_5_genres = clean_movies[clean_movies['genre'].isin(['Adventure', 'Comedy', 'Musical', 'Drama', 'Action'])]"
   ]
  },
  {
   "cell_type": "code",
   "execution_count": 16,
   "metadata": {},
   "outputs": [
    {
     "data": {
      "text/html": [
       "<div>\n",
       "<style scoped>\n",
       "    .dataframe tbody tr th:only-of-type {\n",
       "        vertical-align: middle;\n",
       "    }\n",
       "\n",
       "    .dataframe tbody tr th {\n",
       "        vertical-align: top;\n",
       "    }\n",
       "\n",
       "    .dataframe thead th {\n",
       "        text-align: right;\n",
       "    }\n",
       "</style>\n",
       "<table border=\"1\" class=\"dataframe\">\n",
       "  <thead>\n",
       "    <tr style=\"text-align: right;\">\n",
       "      <th></th>\n",
       "      <th>movie_title</th>\n",
       "      <th>release_date</th>\n",
       "      <th>genre</th>\n",
       "      <th>inflation_adjusted_gross</th>\n",
       "      <th>year</th>\n",
       "    </tr>\n",
       "  </thead>\n",
       "  <tbody>\n",
       "    <tr>\n",
       "      <th>0</th>\n",
       "      <td>Snow White and the Seven Dwarfs</td>\n",
       "      <td>1937-12-21</td>\n",
       "      <td>Musical</td>\n",
       "      <td>5228953251</td>\n",
       "      <td>1937</td>\n",
       "    </tr>\n",
       "    <tr>\n",
       "      <th>1</th>\n",
       "      <td>Pinocchio</td>\n",
       "      <td>1940-02-09</td>\n",
       "      <td>Adventure</td>\n",
       "      <td>2188229052</td>\n",
       "      <td>1940</td>\n",
       "    </tr>\n",
       "    <tr>\n",
       "      <th>2</th>\n",
       "      <td>Fantasia</td>\n",
       "      <td>1940-11-13</td>\n",
       "      <td>Musical</td>\n",
       "      <td>2187090808</td>\n",
       "      <td>1940</td>\n",
       "    </tr>\n",
       "    <tr>\n",
       "      <th>3</th>\n",
       "      <td>101 Dalmatians</td>\n",
       "      <td>1961-01-25</td>\n",
       "      <td>Comedy</td>\n",
       "      <td>1362870985</td>\n",
       "      <td>1961</td>\n",
       "    </tr>\n",
       "    <tr>\n",
       "      <th>4</th>\n",
       "      <td>Lady and the Tramp</td>\n",
       "      <td>1955-06-22</td>\n",
       "      <td>Drama</td>\n",
       "      <td>1236035515</td>\n",
       "      <td>1955</td>\n",
       "    </tr>\n",
       "  </tbody>\n",
       "</table>\n",
       "</div>"
      ],
      "text/plain": [
       "                       movie_title release_date      genre  \\\n",
       "0  Snow White and the Seven Dwarfs   1937-12-21    Musical   \n",
       "1                        Pinocchio   1940-02-09  Adventure   \n",
       "2                         Fantasia   1940-11-13    Musical   \n",
       "3                   101 Dalmatians   1961-01-25     Comedy   \n",
       "4               Lady and the Tramp   1955-06-22      Drama   \n",
       "\n",
       "   inflation_adjusted_gross  year  \n",
       "0                5228953251  1937  \n",
       "1                2188229052  1940  \n",
       "2                2187090808  1940  \n",
       "3                1362870985  1961  \n",
       "4                1236035515  1955  "
      ]
     },
     "execution_count": 16,
     "metadata": {},
     "output_type": "execute_result"
    }
   ],
   "source": [
    "# Sort the movies from the top 5 highest grossing genres by gross profit adjusted for inflation\n",
    "# Put into data frame called ordered movies \n",
    "ordered_movies = top_5_genres.sort_values(by='inflation_adjusted_gross', ascending=False)\n",
    "\n",
    "\n",
    "# Get the top five movies highest grossing movies for each of the type five genres and group by the genre variable\n",
    "top_10_movies = ordered_movies.groupby('genre').head(10).reset_index(drop=True)\n",
    "top_10_movies.head()\n",
    "# open data frame and filter genre by alphabetical order"
   ]
  },
  {
   "cell_type": "code",
   "execution_count": 17,
   "metadata": {},
   "outputs": [
    {
     "data": {
      "image/png": "[encoded data removed]",
      "text/plain": [
       "<Figure size 432x288 with 1 Axes>"
      ]
     },
     "metadata": {
      "needs_background": "light"
     },
     "output_type": "display_data"
    }
   ],
   "source": [
    "# Get the top 10 movies highest grossing movies for each of the type five genres and group by the genre variable\n",
    "top_10_movies = ordered_movies.groupby('genre').head(10).reset_index(drop=True)\n",
    "\n",
    "boxplot_of_top_10 = sns.boxplot(x='genre', y='inflation_adjusted_gross',\n",
    "data=top_10_movies)\n",
    "boxplot_of_top_10 = sns.stripplot(x='genre', y='inflation_adjusted_gross',\n",
    "data=top_10_movies, jitter=True,\n",
    "edgecolor='gray')\n",
    "rcParams['figure.figsize'] = 20,30\n",
    "\n",
    "# does not look like there are any outliers for the action genre "
   ]
  },
  {
   "cell_type": "code",
   "execution_count": 18,
   "metadata": {},
   "outputs": [
    {
     "data": {
      "text/plain": [
       "Text(0.5, 1.0, 'Relationship between Top 5 Genres & Gross Profit Adjusted for Inflation')"
      ]
     },
     "execution_count": 18,
     "metadata": {},
     "output_type": "execute_result"
    },
    {
     "data": {
      "image/png": "[encoded data removed]",
      "text/plain": [
       "<Figure size 720x360 with 1 Axes>"
      ]
     },
     "metadata": {
      "needs_background": "light"
     },
     "output_type": "display_data"
    }
   ],
   "source": [
    "# Narrowing down to top 5 movies for the top 5 genres\n",
    "top_5_movies = ordered_movies.groupby('genre').head(5).reset_index(drop=True)\n",
    "\n",
    "# analyzing the relationship bw genre and gross income\n",
    "plt.figure(figsize=(10,5))\n",
    "swarmplot=sns.swarmplot(x='genre',y='inflation_adjusted_gross',data=top_5_movies, s=13)\n",
    "swarmplot.set_xticklabels(swarmplot.get_xticklabels(),rotation=90)\n",
    "swarmplot.set_title('Relationship between Top 5 Genres & Gross Profit Adjusted for Inflation')\n"
   ]
  },
  {
   "cell_type": "code",
   "execution_count": 19,
   "metadata": {},
   "outputs": [
    {
     "name": "stdout",
     "output_type": "stream",
     "text": [
      "Maximum Value:  5228953251\n"
     ]
    }
   ],
   "source": [
    "# Finding the maximum gross profit adjusted for inflation movie \n",
    "max_grossprofit_adj4inflation = max(clean_movies.inflation_adjusted_gross)\n",
    "print('Maximum Value: ', max_grossprofit_adj4inflation)\n"
   ]
  },
  {
   "cell_type": "code",
   "execution_count": 20,
   "metadata": {},
   "outputs": [
    {
     "name": "stdout",
     "output_type": "stream",
     "text": [
      "                       movie_title release_date    genre  \\\n",
      "0  Snow White and the Seven Dwarfs   1937-12-21  Musical   \n",
      "\n",
      "   inflation_adjusted_gross  year  \n",
      "0                5228953251  1937  \n"
     ]
    }
   ],
   "source": [
    "print(clean_movies[(clean_movies['inflation_adjusted_gross'] >= 5000000000)])"
   ]
  },
  {
   "cell_type": "code",
   "execution_count": 21,
   "metadata": {},
   "outputs": [
    {
     "data": {
      "text/html": [
       "<div>\n",
       "<style scoped>\n",
       "    .dataframe tbody tr th:only-of-type {\n",
       "        vertical-align: middle;\n",
       "    }\n",
       "\n",
       "    .dataframe tbody tr th {\n",
       "        vertical-align: top;\n",
       "    }\n",
       "\n",
       "    .dataframe thead th {\n",
       "        text-align: right;\n",
       "    }\n",
       "</style>\n",
       "<table border=\"1\" class=\"dataframe\">\n",
       "  <thead>\n",
       "    <tr style=\"text-align: right;\">\n",
       "      <th></th>\n",
       "      <th>movie_title</th>\n",
       "      <th>release_date</th>\n",
       "      <th>genre</th>\n",
       "      <th>inflation_adjusted_gross</th>\n",
       "      <th>year</th>\n",
       "    </tr>\n",
       "  </thead>\n",
       "  <tbody>\n",
       "    <tr>\n",
       "      <th>20</th>\n",
       "      <td>The Many Adventures of Winnie the Pooh</td>\n",
       "      <td>1977-03-11</td>\n",
       "      <td>NaN</td>\n",
       "      <td>0</td>\n",
       "      <td>1977</td>\n",
       "    </tr>\n",
       "    <tr>\n",
       "      <th>27</th>\n",
       "      <td>Amy</td>\n",
       "      <td>1981-03-20</td>\n",
       "      <td>Drama</td>\n",
       "      <td>0</td>\n",
       "      <td>1981</td>\n",
       "    </tr>\n",
       "    <tr>\n",
       "      <th>29</th>\n",
       "      <td>Condorman</td>\n",
       "      <td>1981-08-07</td>\n",
       "      <td>Action</td>\n",
       "      <td>0</td>\n",
       "      <td>1981</td>\n",
       "    </tr>\n",
       "    <tr>\n",
       "      <th>355</th>\n",
       "      <td>Frank McKlusky C.I.</td>\n",
       "      <td>2002-01-01</td>\n",
       "      <td>NaN</td>\n",
       "      <td>0</td>\n",
       "      <td>2002</td>\n",
       "    </tr>\n",
       "  </tbody>\n",
       "</table>\n",
       "</div>"
      ],
      "text/plain": [
       "                                movie_title release_date   genre  \\\n",
       "20   The Many Adventures of Winnie the Pooh   1977-03-11     NaN   \n",
       "27                                      Amy   1981-03-20   Drama   \n",
       "29                                Condorman   1981-08-07  Action   \n",
       "355                     Frank McKlusky C.I.   2002-01-01     NaN   \n",
       "\n",
       "     inflation_adjusted_gross  year  \n",
       "20                          0  1977  \n",
       "27                          0  1981  \n",
       "29                          0  1981  \n",
       "355                         0  2002  "
      ]
     },
     "execution_count": 21,
     "metadata": {},
     "output_type": "execute_result"
    }
   ],
   "source": [
    "#???\n",
    "# movies with zero adjusted for inflation \n",
    "# should we take these out of the clean movies data set\n",
    "clean_movies[(clean_movies['inflation_adjusted_gross'] == 0)]"
   ]
  },
  {
   "cell_type": "code",
   "execution_count": 22,
   "metadata": {},
   "outputs": [
    {
     "name": "stdout",
     "output_type": "stream",
     "text": [
      "                                movie_title release_date genre  \\\n",
      "20   The Many Adventures of Winnie the Pooh   1977-03-11   NaN   \n",
      "22               Herbie Goes to Monte Carlo   1977-06-24   NaN   \n",
      "23                           The Black Hole   1979-12-21   NaN   \n",
      "24                         Midnight Madness   1980-02-08   NaN   \n",
      "25            The Last Flight of Noah’s Ark   1980-06-25   NaN   \n",
      "26                 The Devil and Max Devlin   1981-01-01   NaN   \n",
      "121                                 Newsies   1992-04-08   NaN   \n",
      "122                             Passed Away   1992-04-24   NaN   \n",
      "128            A Gun in Betty Lou's Handbag   1992-08-21   NaN   \n",
      "146                          Bound by Honor   1993-04-16   NaN   \n",
      "155                     My Boyfriend's Back   1993-08-06   NaN   \n",
      "156                             Father Hood   1993-08-27   NaN   \n",
      "168                           Red Rock West   1994-01-28   NaN   \n",
      "251                         The War at Home   1996-11-20   NaN   \n",
      "304                               Endurance   1999-05-14   NaN   \n",
      "350                High Heels and Low Lifes   2001-10-26   NaN   \n",
      "355                     Frank McKlusky C.I.   2002-01-01   NaN   \n",
      "\n",
      "     inflation_adjusted_gross  year  \n",
      "20                          0  1977  \n",
      "22                  105847527  1977  \n",
      "23                  120377374  1979  \n",
      "24                    9088096  1980  \n",
      "25                   34472116  1980  \n",
      "26                   48517980  1981  \n",
      "121                   5497481  1992  \n",
      "122                   8187848  1992  \n",
      "128                   7295423  1992  \n",
      "146                   9156084  1993  \n",
      "155                   6554384  1993  \n",
      "156                   6654819  1993  \n",
      "168                   5170709  1994  \n",
      "251                     65543  1996  \n",
      "304                    380218  1999  \n",
      "350                    337782  2001  \n",
      "355                         0  2002  \n"
     ]
    }
   ],
   "source": [
    "# ???\n",
    "# movies with zero adjusted for inflation \n",
    "df_null_genres= clean_movies[clean_movies['genre'].isnull()]\n",
    "print(df_null_genres)"
   ]
  },
  {
   "cell_type": "code",
   "execution_count": 23,
   "metadata": {},
   "outputs": [
    {
     "name": "stdout",
     "output_type": "stream",
     "text": [
      "17\n"
     ]
    }
   ],
   "source": [
    "# ??????\n",
    "print(len(df_null_genres))\n",
    "# 17 null genre values"
   ]
  },
  {
   "cell_type": "code",
   "execution_count": 24,
   "metadata": {},
   "outputs": [],
   "source": [
    "# organizing movies by decade \n",
    "top_5_movies['decade'] = 0\n",
    "# initialize decade variable"
   ]
  },
  {
   "cell_type": "code",
   "execution_count": 25,
   "metadata": {},
   "outputs": [],
   "source": [
    "# Organizing top 10 movies by genre for each decade \n",
    "top_5_movies.loc[(top_5_movies['year'] >= 1930) & (top_5_movies['year'] < 1940), 'decade'] = '1930s'\n",
    "top_5_movies.loc[(top_5_movies['year'] >= 1940) & (top_5_movies['year'] < 1950), 'decade'] = '1940s'\n",
    "top_5_movies.loc[(top_5_movies['year'] >= 1950) & (top_5_movies['year'] < 1960), 'decade'] = '1950s'\n",
    "top_5_movies.loc[(top_5_movies['year'] >= 1960) & (top_5_movies['year'] < 1970), 'decade'] = '1960s'\n",
    "top_5_movies.loc[(top_5_movies['year'] >= 1970) & (top_5_movies['year'] < 1980), 'decade'] = '1970s'\n",
    "top_5_movies.loc[(top_5_movies['year'] >= 1980) & (top_5_movies['year'] < 1990), 'decade'] = '1980s'\n",
    "top_5_movies.loc[(top_5_movies['year'] >= 1990) & (top_5_movies['year'] < 2000), 'decade'] = '1990s'\n",
    "top_5_movies.loc[(top_5_movies['year'] >= 2000) & (top_5_movies['year'] < 2010), 'decade'] = '2000s'\n",
    "top_5_movies.loc[(top_5_movies['year'] >= 2010) & (top_5_movies['year'] <= 2016), 'decade'] = '2010s'"
   ]
  },
  {
   "cell_type": "code",
   "execution_count": 26,
   "metadata": {},
   "outputs": [
    {
     "data": {
      "text/plain": [
       "<AxesSubplot:xlabel='decade'>"
      ]
     },
     "execution_count": 26,
     "metadata": {},
     "output_type": "execute_result"
    },
    {
     "data": {
      "image/png": "[encoded data removed]",
      "text/plain": [
       "<Figure size 1440x720 with 1 Axes>"
      ]
     },
     "metadata": {
      "needs_background": "light"
     },
     "output_type": "display_data"
    }
   ],
   "source": [
    "# The Sum of the Top 10 Highest Grossing Movies for each of the Top 5 Genres organized by Decade\n",
    "top_5_movies.groupby(['decade', 'genre']).size().unstack().plot.bar(colormap='Accent', figsize=(20, 10))\n",
    "\n",
    "# not every decade had a movie from every genre\n"
   ]
  },
  {
   "cell_type": "markdown",
   "metadata": {},
   "source": [
    "### Reddit Data Scrapping \n",
    "#### Subreddit 1: Cruella Movie Reviews"
   ]
  },
  {
   "cell_type": "code",
   "execution_count": 27,
   "metadata": {},
   "outputs": [
    {
     "name": "stderr",
     "output_type": "stream",
     "text": [
      "/var/folders/x5/ml5dd1h14kzbwjdt0wmhps480000gn/T/ipykernel_35323/498754594.py:22: FutureWarning: The frame.append method is deprecated and will be removed from pandas in a future version. Use pandas.concat instead.\n",
      "  df_comments = df_comments.append(json_to_row)\n",
      "/var/folders/x5/ml5dd1h14kzbwjdt0wmhps480000gn/T/ipykernel_35323/498754594.py:22: FutureWarning: The frame.append method is deprecated and will be removed from pandas in a future version. Use pandas.concat instead.\n",
      "  df_comments = df_comments.append(json_to_row)\n",
      "/var/folders/x5/ml5dd1h14kzbwjdt0wmhps480000gn/T/ipykernel_35323/498754594.py:22: FutureWarning: The frame.append method is deprecated and will be removed from pandas in a future version. Use pandas.concat instead.\n",
      "  df_comments = df_comments.append(json_to_row)\n",
      "/var/folders/x5/ml5dd1h14kzbwjdt0wmhps480000gn/T/ipykernel_35323/498754594.py:22: FutureWarning: The frame.append method is deprecated and will be removed from pandas in a future version. Use pandas.concat instead.\n",
      "  df_comments = df_comments.append(json_to_row)\n",
      "/var/folders/x5/ml5dd1h14kzbwjdt0wmhps480000gn/T/ipykernel_35323/498754594.py:22: FutureWarning: The frame.append method is deprecated and will be removed from pandas in a future version. Use pandas.concat instead.\n",
      "  df_comments = df_comments.append(json_to_row)\n",
      "/var/folders/x5/ml5dd1h14kzbwjdt0wmhps480000gn/T/ipykernel_35323/498754594.py:22: FutureWarning: The frame.append method is deprecated and will be removed from pandas in a future version. Use pandas.concat instead.\n",
      "  df_comments = df_comments.append(json_to_row)\n",
      "/var/folders/x5/ml5dd1h14kzbwjdt0wmhps480000gn/T/ipykernel_35323/498754594.py:22: FutureWarning: The frame.append method is deprecated and will be removed from pandas in a future version. Use pandas.concat instead.\n",
      "  df_comments = df_comments.append(json_to_row)\n",
      "/var/folders/x5/ml5dd1h14kzbwjdt0wmhps480000gn/T/ipykernel_35323/498754594.py:22: FutureWarning: The frame.append method is deprecated and will be removed from pandas in a future version. Use pandas.concat instead.\n",
      "  df_comments = df_comments.append(json_to_row)\n",
      "/var/folders/x5/ml5dd1h14kzbwjdt0wmhps480000gn/T/ipykernel_35323/498754594.py:22: FutureWarning: The frame.append method is deprecated and will be removed from pandas in a future version. Use pandas.concat instead.\n",
      "  df_comments = df_comments.append(json_to_row)\n",
      "/var/folders/x5/ml5dd1h14kzbwjdt0wmhps480000gn/T/ipykernel_35323/498754594.py:22: FutureWarning: The frame.append method is deprecated and will be removed from pandas in a future version. Use pandas.concat instead.\n",
      "  df_comments = df_comments.append(json_to_row)\n",
      "/var/folders/x5/ml5dd1h14kzbwjdt0wmhps480000gn/T/ipykernel_35323/498754594.py:22: FutureWarning: The frame.append method is deprecated and will be removed from pandas in a future version. Use pandas.concat instead.\n",
      "  df_comments = df_comments.append(json_to_row)\n",
      "/var/folders/x5/ml5dd1h14kzbwjdt0wmhps480000gn/T/ipykernel_35323/498754594.py:22: FutureWarning: The frame.append method is deprecated and will be removed from pandas in a future version. Use pandas.concat instead.\n",
      "  df_comments = df_comments.append(json_to_row)\n",
      "/var/folders/x5/ml5dd1h14kzbwjdt0wmhps480000gn/T/ipykernel_35323/498754594.py:22: FutureWarning: The frame.append method is deprecated and will be removed from pandas in a future version. Use pandas.concat instead.\n",
      "  df_comments = df_comments.append(json_to_row)\n",
      "/var/folders/x5/ml5dd1h14kzbwjdt0wmhps480000gn/T/ipykernel_35323/498754594.py:22: FutureWarning: The frame.append method is deprecated and will be removed from pandas in a future version. Use pandas.concat instead.\n",
      "  df_comments = df_comments.append(json_to_row)\n",
      "/var/folders/x5/ml5dd1h14kzbwjdt0wmhps480000gn/T/ipykernel_35323/498754594.py:22: FutureWarning: The frame.append method is deprecated and will be removed from pandas in a future version. Use pandas.concat instead.\n",
      "  df_comments = df_comments.append(json_to_row)\n",
      "/var/folders/x5/ml5dd1h14kzbwjdt0wmhps480000gn/T/ipykernel_35323/498754594.py:22: FutureWarning: The frame.append method is deprecated and will be removed from pandas in a future version. Use pandas.concat instead.\n",
      "  df_comments = df_comments.append(json_to_row)\n",
      "/var/folders/x5/ml5dd1h14kzbwjdt0wmhps480000gn/T/ipykernel_35323/498754594.py:22: FutureWarning: The frame.append method is deprecated and will be removed from pandas in a future version. Use pandas.concat instead.\n",
      "  df_comments = df_comments.append(json_to_row)\n",
      "/var/folders/x5/ml5dd1h14kzbwjdt0wmhps480000gn/T/ipykernel_35323/498754594.py:22: FutureWarning: The frame.append method is deprecated and will be removed from pandas in a future version. Use pandas.concat instead.\n",
      "  df_comments = df_comments.append(json_to_row)\n",
      "/var/folders/x5/ml5dd1h14kzbwjdt0wmhps480000gn/T/ipykernel_35323/498754594.py:22: FutureWarning: The frame.append method is deprecated and will be removed from pandas in a future version. Use pandas.concat instead.\n",
      "  df_comments = df_comments.append(json_to_row)\n",
      "/var/folders/x5/ml5dd1h14kzbwjdt0wmhps480000gn/T/ipykernel_35323/498754594.py:22: FutureWarning: The frame.append method is deprecated and will be removed from pandas in a future version. Use pandas.concat instead.\n",
      "  df_comments = df_comments.append(json_to_row)\n",
      "/var/folders/x5/ml5dd1h14kzbwjdt0wmhps480000gn/T/ipykernel_35323/498754594.py:22: FutureWarning: The frame.append method is deprecated and will be removed from pandas in a future version. Use pandas.concat instead.\n",
      "  df_comments = df_comments.append(json_to_row)\n",
      "/var/folders/x5/ml5dd1h14kzbwjdt0wmhps480000gn/T/ipykernel_35323/498754594.py:22: FutureWarning: The frame.append method is deprecated and will be removed from pandas in a future version. Use pandas.concat instead.\n",
      "  df_comments = df_comments.append(json_to_row)\n",
      "/var/folders/x5/ml5dd1h14kzbwjdt0wmhps480000gn/T/ipykernel_35323/498754594.py:22: FutureWarning: The frame.append method is deprecated and will be removed from pandas in a future version. Use pandas.concat instead.\n",
      "  df_comments = df_comments.append(json_to_row)\n"
     ]
    }
   ],
   "source": [
    "import requests\n",
    "import pandas\n",
    "\n",
    "# retrieving the response in JSON; the \"headers\" argument tells Reddit \"who\" is asking for data to prevent \"too many requests\" errors\n",
    "response = requests.get(\"https://www.reddit.com/r/disney/comments/shoujo/so_about_that_cruella_movie.json\", headers = {'User-agent': 'ISA 514/414'})\n",
    "response = response.json()\n",
    "\n",
    "# retrieving post info: first key-value pair, i.e., position 0 in the JSON file\n",
    "df_post = pandas.json_normalize(response[0][\"data\"][\"children\"][0][\"data\"])\n",
    "\n",
    "# creating an empty data frame\n",
    "df_comments = pandas.DataFrame()\n",
    "\n",
    "# retrieving comments info: second key-value pair, i.e., position 1 in the JSON file\n",
    "# for each post in the data -> children branch\n",
    "for post in response[1][\"data\"][\"children\"]:\n",
    "\n",
    "    # create a row for the values associated with the 'data' key\n",
    "    json_to_row = pandas.json_normalize(post[\"data\"])\n",
    "\n",
    "    # append data to empty data frame\n",
    "    df_comments = df_comments.append(json_to_row)\n",
    "\n",
    "## Save subset of df_comments that contains only the comment text\n",
    "cruella_comments = df_comments[['body']]"
   ]
  },
  {
   "cell_type": "markdown",
   "metadata": {},
   "source": [
    "#### Subreddit 2: Mulan Movie Reviews"
   ]
  },
  {
   "cell_type": "code",
   "execution_count": 28,
   "metadata": {},
   "outputs": [
    {
     "name": "stderr",
     "output_type": "stream",
     "text": [
      "/var/folders/x5/ml5dd1h14kzbwjdt0wmhps480000gn/T/ipykernel_35323/2825206113.py:19: FutureWarning: The frame.append method is deprecated and will be removed from pandas in a future version. Use pandas.concat instead.\n",
      "  df_comments = df_comments.append(json_to_row)\n",
      "/var/folders/x5/ml5dd1h14kzbwjdt0wmhps480000gn/T/ipykernel_35323/2825206113.py:19: FutureWarning: The frame.append method is deprecated and will be removed from pandas in a future version. Use pandas.concat instead.\n",
      "  df_comments = df_comments.append(json_to_row)\n",
      "/var/folders/x5/ml5dd1h14kzbwjdt0wmhps480000gn/T/ipykernel_35323/2825206113.py:19: FutureWarning: The frame.append method is deprecated and will be removed from pandas in a future version. Use pandas.concat instead.\n",
      "  df_comments = df_comments.append(json_to_row)\n",
      "/var/folders/x5/ml5dd1h14kzbwjdt0wmhps480000gn/T/ipykernel_35323/2825206113.py:19: FutureWarning: The frame.append method is deprecated and will be removed from pandas in a future version. Use pandas.concat instead.\n",
      "  df_comments = df_comments.append(json_to_row)\n",
      "/var/folders/x5/ml5dd1h14kzbwjdt0wmhps480000gn/T/ipykernel_35323/2825206113.py:19: FutureWarning: The frame.append method is deprecated and will be removed from pandas in a future version. Use pandas.concat instead.\n",
      "  df_comments = df_comments.append(json_to_row)\n",
      "/var/folders/x5/ml5dd1h14kzbwjdt0wmhps480000gn/T/ipykernel_35323/2825206113.py:19: FutureWarning: The frame.append method is deprecated and will be removed from pandas in a future version. Use pandas.concat instead.\n",
      "  df_comments = df_comments.append(json_to_row)\n",
      "/var/folders/x5/ml5dd1h14kzbwjdt0wmhps480000gn/T/ipykernel_35323/2825206113.py:19: FutureWarning: Behavior when concatenating bool-dtype and numeric-dtype arrays is deprecated; in a future version these will cast to object dtype (instead of coercing bools to numeric values). To retain the old behavior, explicitly cast bool-dtype arrays to numeric dtype.\n",
      "  df_comments = df_comments.append(json_to_row)\n",
      "/var/folders/x5/ml5dd1h14kzbwjdt0wmhps480000gn/T/ipykernel_35323/2825206113.py:19: FutureWarning: The frame.append method is deprecated and will be removed from pandas in a future version. Use pandas.concat instead.\n",
      "  df_comments = df_comments.append(json_to_row)\n",
      "/var/folders/x5/ml5dd1h14kzbwjdt0wmhps480000gn/T/ipykernel_35323/2825206113.py:19: FutureWarning: The frame.append method is deprecated and will be removed from pandas in a future version. Use pandas.concat instead.\n",
      "  df_comments = df_comments.append(json_to_row)\n",
      "/var/folders/x5/ml5dd1h14kzbwjdt0wmhps480000gn/T/ipykernel_35323/2825206113.py:19: FutureWarning: The frame.append method is deprecated and will be removed from pandas in a future version. Use pandas.concat instead.\n",
      "  df_comments = df_comments.append(json_to_row)\n",
      "/var/folders/x5/ml5dd1h14kzbwjdt0wmhps480000gn/T/ipykernel_35323/2825206113.py:19: FutureWarning: The frame.append method is deprecated and will be removed from pandas in a future version. Use pandas.concat instead.\n",
      "  df_comments = df_comments.append(json_to_row)\n"
     ]
    }
   ],
   "source": [
    "# retrieving the response in JSON; the \"headers\" argument tells Reddit \"who\" is asking for data to prevent \"too many requests\" errors\n",
    "response = requests.get(\"https://www.reddit.com/r/boxoffice/comments/pi5wpn/mulan_2020_was_released_a_year_ago_today_the_film.json\", headers = {'User-agent': 'ISA 514/414'})\n",
    "response = response.json()\n",
    "\n",
    "# retrieving post info: first key-value pair, i.e., position 0 in the JSON file\n",
    "df_post = pandas.json_normalize(response[0][\"data\"][\"children\"][0][\"data\"])\n",
    "\n",
    "# creating an empty data frame\n",
    "df_comments = pandas.DataFrame()\n",
    "\n",
    "# retrieving comments info: second key-value pair, i.e., position 1 in the JSON file\n",
    "# for each post in the data -> children branch\n",
    "for post in response[1][\"data\"][\"children\"]:\n",
    "\n",
    "    # create a row for the values associated with the 'data' key\n",
    "    json_to_row = pandas.json_normalize(post[\"data\"])\n",
    "\n",
    "    # append data to empty data frame\n",
    "    df_comments = df_comments.append(json_to_row)\n",
    "\n",
    "## Save subset of df_comments that contains only the comment text\n",
    "mulan_comments = df_comments[['body']]"
   ]
  },
  {
   "cell_type": "markdown",
   "metadata": {},
   "source": [
    "#### Subreddit 3: Cinderella 2015 Movie Reviews"
   ]
  },
  {
   "cell_type": "code",
   "execution_count": 29,
   "metadata": {},
   "outputs": [
    {
     "name": "stderr",
     "output_type": "stream",
     "text": [
      "/var/folders/x5/ml5dd1h14kzbwjdt0wmhps480000gn/T/ipykernel_35323/753173694.py:19: FutureWarning: The frame.append method is deprecated and will be removed from pandas in a future version. Use pandas.concat instead.\n",
      "  df_comments = df_comments.append(json_to_row)\n",
      "/var/folders/x5/ml5dd1h14kzbwjdt0wmhps480000gn/T/ipykernel_35323/753173694.py:19: FutureWarning: The frame.append method is deprecated and will be removed from pandas in a future version. Use pandas.concat instead.\n",
      "  df_comments = df_comments.append(json_to_row)\n",
      "/var/folders/x5/ml5dd1h14kzbwjdt0wmhps480000gn/T/ipykernel_35323/753173694.py:19: FutureWarning: The frame.append method is deprecated and will be removed from pandas in a future version. Use pandas.concat instead.\n",
      "  df_comments = df_comments.append(json_to_row)\n",
      "/var/folders/x5/ml5dd1h14kzbwjdt0wmhps480000gn/T/ipykernel_35323/753173694.py:19: FutureWarning: The frame.append method is deprecated and will be removed from pandas in a future version. Use pandas.concat instead.\n",
      "  df_comments = df_comments.append(json_to_row)\n",
      "/var/folders/x5/ml5dd1h14kzbwjdt0wmhps480000gn/T/ipykernel_35323/753173694.py:19: FutureWarning: The frame.append method is deprecated and will be removed from pandas in a future version. Use pandas.concat instead.\n",
      "  df_comments = df_comments.append(json_to_row)\n",
      "/var/folders/x5/ml5dd1h14kzbwjdt0wmhps480000gn/T/ipykernel_35323/753173694.py:19: FutureWarning: The frame.append method is deprecated and will be removed from pandas in a future version. Use pandas.concat instead.\n",
      "  df_comments = df_comments.append(json_to_row)\n",
      "/var/folders/x5/ml5dd1h14kzbwjdt0wmhps480000gn/T/ipykernel_35323/753173694.py:19: FutureWarning: The frame.append method is deprecated and will be removed from pandas in a future version. Use pandas.concat instead.\n",
      "  df_comments = df_comments.append(json_to_row)\n",
      "/var/folders/x5/ml5dd1h14kzbwjdt0wmhps480000gn/T/ipykernel_35323/753173694.py:19: FutureWarning: The frame.append method is deprecated and will be removed from pandas in a future version. Use pandas.concat instead.\n",
      "  df_comments = df_comments.append(json_to_row)\n",
      "/var/folders/x5/ml5dd1h14kzbwjdt0wmhps480000gn/T/ipykernel_35323/753173694.py:19: FutureWarning: The frame.append method is deprecated and will be removed from pandas in a future version. Use pandas.concat instead.\n",
      "  df_comments = df_comments.append(json_to_row)\n",
      "/var/folders/x5/ml5dd1h14kzbwjdt0wmhps480000gn/T/ipykernel_35323/753173694.py:19: FutureWarning: The frame.append method is deprecated and will be removed from pandas in a future version. Use pandas.concat instead.\n",
      "  df_comments = df_comments.append(json_to_row)\n",
      "/var/folders/x5/ml5dd1h14kzbwjdt0wmhps480000gn/T/ipykernel_35323/753173694.py:19: FutureWarning: The frame.append method is deprecated and will be removed from pandas in a future version. Use pandas.concat instead.\n",
      "  df_comments = df_comments.append(json_to_row)\n",
      "/var/folders/x5/ml5dd1h14kzbwjdt0wmhps480000gn/T/ipykernel_35323/753173694.py:19: FutureWarning: The frame.append method is deprecated and will be removed from pandas in a future version. Use pandas.concat instead.\n",
      "  df_comments = df_comments.append(json_to_row)\n",
      "/var/folders/x5/ml5dd1h14kzbwjdt0wmhps480000gn/T/ipykernel_35323/753173694.py:19: FutureWarning: The frame.append method is deprecated and will be removed from pandas in a future version. Use pandas.concat instead.\n",
      "  df_comments = df_comments.append(json_to_row)\n",
      "/var/folders/x5/ml5dd1h14kzbwjdt0wmhps480000gn/T/ipykernel_35323/753173694.py:19: FutureWarning: The frame.append method is deprecated and will be removed from pandas in a future version. Use pandas.concat instead.\n",
      "  df_comments = df_comments.append(json_to_row)\n",
      "/var/folders/x5/ml5dd1h14kzbwjdt0wmhps480000gn/T/ipykernel_35323/753173694.py:19: FutureWarning: The frame.append method is deprecated and will be removed from pandas in a future version. Use pandas.concat instead.\n",
      "  df_comments = df_comments.append(json_to_row)\n",
      "/var/folders/x5/ml5dd1h14kzbwjdt0wmhps480000gn/T/ipykernel_35323/753173694.py:19: FutureWarning: The frame.append method is deprecated and will be removed from pandas in a future version. Use pandas.concat instead.\n",
      "  df_comments = df_comments.append(json_to_row)\n",
      "/var/folders/x5/ml5dd1h14kzbwjdt0wmhps480000gn/T/ipykernel_35323/753173694.py:19: FutureWarning: The frame.append method is deprecated and will be removed from pandas in a future version. Use pandas.concat instead.\n",
      "  df_comments = df_comments.append(json_to_row)\n",
      "/var/folders/x5/ml5dd1h14kzbwjdt0wmhps480000gn/T/ipykernel_35323/753173694.py:19: FutureWarning: The frame.append method is deprecated and will be removed from pandas in a future version. Use pandas.concat instead.\n",
      "  df_comments = df_comments.append(json_to_row)\n",
      "/var/folders/x5/ml5dd1h14kzbwjdt0wmhps480000gn/T/ipykernel_35323/753173694.py:19: FutureWarning: The frame.append method is deprecated and will be removed from pandas in a future version. Use pandas.concat instead.\n",
      "  df_comments = df_comments.append(json_to_row)\n",
      "/var/folders/x5/ml5dd1h14kzbwjdt0wmhps480000gn/T/ipykernel_35323/753173694.py:19: FutureWarning: The frame.append method is deprecated and will be removed from pandas in a future version. Use pandas.concat instead.\n",
      "  df_comments = df_comments.append(json_to_row)\n",
      "/var/folders/x5/ml5dd1h14kzbwjdt0wmhps480000gn/T/ipykernel_35323/753173694.py:19: FutureWarning: The frame.append method is deprecated and will be removed from pandas in a future version. Use pandas.concat instead.\n",
      "  df_comments = df_comments.append(json_to_row)\n",
      "/var/folders/x5/ml5dd1h14kzbwjdt0wmhps480000gn/T/ipykernel_35323/753173694.py:19: FutureWarning: The frame.append method is deprecated and will be removed from pandas in a future version. Use pandas.concat instead.\n",
      "  df_comments = df_comments.append(json_to_row)\n",
      "/var/folders/x5/ml5dd1h14kzbwjdt0wmhps480000gn/T/ipykernel_35323/753173694.py:19: FutureWarning: The frame.append method is deprecated and will be removed from pandas in a future version. Use pandas.concat instead.\n",
      "  df_comments = df_comments.append(json_to_row)\n",
      "/var/folders/x5/ml5dd1h14kzbwjdt0wmhps480000gn/T/ipykernel_35323/753173694.py:19: FutureWarning: The frame.append method is deprecated and will be removed from pandas in a future version. Use pandas.concat instead.\n",
      "  df_comments = df_comments.append(json_to_row)\n",
      "/var/folders/x5/ml5dd1h14kzbwjdt0wmhps480000gn/T/ipykernel_35323/753173694.py:19: FutureWarning: The frame.append method is deprecated and will be removed from pandas in a future version. Use pandas.concat instead.\n",
      "  df_comments = df_comments.append(json_to_row)\n",
      "/var/folders/x5/ml5dd1h14kzbwjdt0wmhps480000gn/T/ipykernel_35323/753173694.py:19: FutureWarning: The frame.append method is deprecated and will be removed from pandas in a future version. Use pandas.concat instead.\n",
      "  df_comments = df_comments.append(json_to_row)\n",
      "/var/folders/x5/ml5dd1h14kzbwjdt0wmhps480000gn/T/ipykernel_35323/753173694.py:19: FutureWarning: The frame.append method is deprecated and will be removed from pandas in a future version. Use pandas.concat instead.\n",
      "  df_comments = df_comments.append(json_to_row)\n",
      "/var/folders/x5/ml5dd1h14kzbwjdt0wmhps480000gn/T/ipykernel_35323/753173694.py:19: FutureWarning: The frame.append method is deprecated and will be removed from pandas in a future version. Use pandas.concat instead.\n",
      "  df_comments = df_comments.append(json_to_row)\n",
      "/var/folders/x5/ml5dd1h14kzbwjdt0wmhps480000gn/T/ipykernel_35323/753173694.py:19: FutureWarning: The frame.append method is deprecated and will be removed from pandas in a future version. Use pandas.concat instead.\n",
      "  df_comments = df_comments.append(json_to_row)\n",
      "/var/folders/x5/ml5dd1h14kzbwjdt0wmhps480000gn/T/ipykernel_35323/753173694.py:19: FutureWarning: The frame.append method is deprecated and will be removed from pandas in a future version. Use pandas.concat instead.\n",
      "  df_comments = df_comments.append(json_to_row)\n",
      "/var/folders/x5/ml5dd1h14kzbwjdt0wmhps480000gn/T/ipykernel_35323/753173694.py:19: FutureWarning: The frame.append method is deprecated and will be removed from pandas in a future version. Use pandas.concat instead.\n",
      "  df_comments = df_comments.append(json_to_row)\n",
      "/var/folders/x5/ml5dd1h14kzbwjdt0wmhps480000gn/T/ipykernel_35323/753173694.py:19: FutureWarning: The frame.append method is deprecated and will be removed from pandas in a future version. Use pandas.concat instead.\n",
      "  df_comments = df_comments.append(json_to_row)\n",
      "/var/folders/x5/ml5dd1h14kzbwjdt0wmhps480000gn/T/ipykernel_35323/753173694.py:19: FutureWarning: The frame.append method is deprecated and will be removed from pandas in a future version. Use pandas.concat instead.\n",
      "  df_comments = df_comments.append(json_to_row)\n",
      "/var/folders/x5/ml5dd1h14kzbwjdt0wmhps480000gn/T/ipykernel_35323/753173694.py:19: FutureWarning: The frame.append method is deprecated and will be removed from pandas in a future version. Use pandas.concat instead.\n",
      "  df_comments = df_comments.append(json_to_row)\n",
      "/var/folders/x5/ml5dd1h14kzbwjdt0wmhps480000gn/T/ipykernel_35323/753173694.py:19: FutureWarning: The frame.append method is deprecated and will be removed from pandas in a future version. Use pandas.concat instead.\n",
      "  df_comments = df_comments.append(json_to_row)\n",
      "/var/folders/x5/ml5dd1h14kzbwjdt0wmhps480000gn/T/ipykernel_35323/753173694.py:19: FutureWarning: The frame.append method is deprecated and will be removed from pandas in a future version. Use pandas.concat instead.\n",
      "  df_comments = df_comments.append(json_to_row)\n",
      "/var/folders/x5/ml5dd1h14kzbwjdt0wmhps480000gn/T/ipykernel_35323/753173694.py:19: FutureWarning: The frame.append method is deprecated and will be removed from pandas in a future version. Use pandas.concat instead.\n",
      "  df_comments = df_comments.append(json_to_row)\n",
      "/var/folders/x5/ml5dd1h14kzbwjdt0wmhps480000gn/T/ipykernel_35323/753173694.py:19: FutureWarning: The frame.append method is deprecated and will be removed from pandas in a future version. Use pandas.concat instead.\n",
      "  df_comments = df_comments.append(json_to_row)\n",
      "/var/folders/x5/ml5dd1h14kzbwjdt0wmhps480000gn/T/ipykernel_35323/753173694.py:19: FutureWarning: The frame.append method is deprecated and will be removed from pandas in a future version. Use pandas.concat instead.\n",
      "  df_comments = df_comments.append(json_to_row)\n",
      "/var/folders/x5/ml5dd1h14kzbwjdt0wmhps480000gn/T/ipykernel_35323/753173694.py:19: FutureWarning: The frame.append method is deprecated and will be removed from pandas in a future version. Use pandas.concat instead.\n",
      "  df_comments = df_comments.append(json_to_row)\n",
      "/var/folders/x5/ml5dd1h14kzbwjdt0wmhps480000gn/T/ipykernel_35323/753173694.py:19: FutureWarning: The frame.append method is deprecated and will be removed from pandas in a future version. Use pandas.concat instead.\n",
      "  df_comments = df_comments.append(json_to_row)\n",
      "/var/folders/x5/ml5dd1h14kzbwjdt0wmhps480000gn/T/ipykernel_35323/753173694.py:19: FutureWarning: The frame.append method is deprecated and will be removed from pandas in a future version. Use pandas.concat instead.\n",
      "  df_comments = df_comments.append(json_to_row)\n",
      "/var/folders/x5/ml5dd1h14kzbwjdt0wmhps480000gn/T/ipykernel_35323/753173694.py:19: FutureWarning: The frame.append method is deprecated and will be removed from pandas in a future version. Use pandas.concat instead.\n",
      "  df_comments = df_comments.append(json_to_row)\n",
      "/var/folders/x5/ml5dd1h14kzbwjdt0wmhps480000gn/T/ipykernel_35323/753173694.py:19: FutureWarning: The frame.append method is deprecated and will be removed from pandas in a future version. Use pandas.concat instead.\n",
      "  df_comments = df_comments.append(json_to_row)\n",
      "/var/folders/x5/ml5dd1h14kzbwjdt0wmhps480000gn/T/ipykernel_35323/753173694.py:19: FutureWarning: The frame.append method is deprecated and will be removed from pandas in a future version. Use pandas.concat instead.\n",
      "  df_comments = df_comments.append(json_to_row)\n",
      "/var/folders/x5/ml5dd1h14kzbwjdt0wmhps480000gn/T/ipykernel_35323/753173694.py:19: FutureWarning: The frame.append method is deprecated and will be removed from pandas in a future version. Use pandas.concat instead.\n",
      "  df_comments = df_comments.append(json_to_row)\n",
      "/var/folders/x5/ml5dd1h14kzbwjdt0wmhps480000gn/T/ipykernel_35323/753173694.py:19: FutureWarning: The frame.append method is deprecated and will be removed from pandas in a future version. Use pandas.concat instead.\n",
      "  df_comments = df_comments.append(json_to_row)\n",
      "/var/folders/x5/ml5dd1h14kzbwjdt0wmhps480000gn/T/ipykernel_35323/753173694.py:19: FutureWarning: The frame.append method is deprecated and will be removed from pandas in a future version. Use pandas.concat instead.\n",
      "  df_comments = df_comments.append(json_to_row)\n",
      "/var/folders/x5/ml5dd1h14kzbwjdt0wmhps480000gn/T/ipykernel_35323/753173694.py:19: FutureWarning: The frame.append method is deprecated and will be removed from pandas in a future version. Use pandas.concat instead.\n",
      "  df_comments = df_comments.append(json_to_row)\n",
      "/var/folders/x5/ml5dd1h14kzbwjdt0wmhps480000gn/T/ipykernel_35323/753173694.py:19: FutureWarning: The frame.append method is deprecated and will be removed from pandas in a future version. Use pandas.concat instead.\n",
      "  df_comments = df_comments.append(json_to_row)\n",
      "/var/folders/x5/ml5dd1h14kzbwjdt0wmhps480000gn/T/ipykernel_35323/753173694.py:19: FutureWarning: The frame.append method is deprecated and will be removed from pandas in a future version. Use pandas.concat instead.\n",
      "  df_comments = df_comments.append(json_to_row)\n",
      "/var/folders/x5/ml5dd1h14kzbwjdt0wmhps480000gn/T/ipykernel_35323/753173694.py:19: FutureWarning: The frame.append method is deprecated and will be removed from pandas in a future version. Use pandas.concat instead.\n",
      "  df_comments = df_comments.append(json_to_row)\n",
      "/var/folders/x5/ml5dd1h14kzbwjdt0wmhps480000gn/T/ipykernel_35323/753173694.py:19: FutureWarning: The frame.append method is deprecated and will be removed from pandas in a future version. Use pandas.concat instead.\n",
      "  df_comments = df_comments.append(json_to_row)\n",
      "/var/folders/x5/ml5dd1h14kzbwjdt0wmhps480000gn/T/ipykernel_35323/753173694.py:19: FutureWarning: The frame.append method is deprecated and will be removed from pandas in a future version. Use pandas.concat instead.\n",
      "  df_comments = df_comments.append(json_to_row)\n",
      "/var/folders/x5/ml5dd1h14kzbwjdt0wmhps480000gn/T/ipykernel_35323/753173694.py:19: FutureWarning: The frame.append method is deprecated and will be removed from pandas in a future version. Use pandas.concat instead.\n",
      "  df_comments = df_comments.append(json_to_row)\n",
      "/var/folders/x5/ml5dd1h14kzbwjdt0wmhps480000gn/T/ipykernel_35323/753173694.py:19: FutureWarning: The frame.append method is deprecated and will be removed from pandas in a future version. Use pandas.concat instead.\n",
      "  df_comments = df_comments.append(json_to_row)\n",
      "/var/folders/x5/ml5dd1h14kzbwjdt0wmhps480000gn/T/ipykernel_35323/753173694.py:19: FutureWarning: The frame.append method is deprecated and will be removed from pandas in a future version. Use pandas.concat instead.\n",
      "  df_comments = df_comments.append(json_to_row)\n",
      "/var/folders/x5/ml5dd1h14kzbwjdt0wmhps480000gn/T/ipykernel_35323/753173694.py:19: FutureWarning: The frame.append method is deprecated and will be removed from pandas in a future version. Use pandas.concat instead.\n",
      "  df_comments = df_comments.append(json_to_row)\n",
      "/var/folders/x5/ml5dd1h14kzbwjdt0wmhps480000gn/T/ipykernel_35323/753173694.py:19: FutureWarning: The frame.append method is deprecated and will be removed from pandas in a future version. Use pandas.concat instead.\n",
      "  df_comments = df_comments.append(json_to_row)\n",
      "/var/folders/x5/ml5dd1h14kzbwjdt0wmhps480000gn/T/ipykernel_35323/753173694.py:19: FutureWarning: The frame.append method is deprecated and will be removed from pandas in a future version. Use pandas.concat instead.\n",
      "  df_comments = df_comments.append(json_to_row)\n",
      "/var/folders/x5/ml5dd1h14kzbwjdt0wmhps480000gn/T/ipykernel_35323/753173694.py:19: FutureWarning: The frame.append method is deprecated and will be removed from pandas in a future version. Use pandas.concat instead.\n",
      "  df_comments = df_comments.append(json_to_row)\n",
      "/var/folders/x5/ml5dd1h14kzbwjdt0wmhps480000gn/T/ipykernel_35323/753173694.py:19: FutureWarning: The frame.append method is deprecated and will be removed from pandas in a future version. Use pandas.concat instead.\n",
      "  df_comments = df_comments.append(json_to_row)\n",
      "/var/folders/x5/ml5dd1h14kzbwjdt0wmhps480000gn/T/ipykernel_35323/753173694.py:19: FutureWarning: The frame.append method is deprecated and will be removed from pandas in a future version. Use pandas.concat instead.\n",
      "  df_comments = df_comments.append(json_to_row)\n",
      "/var/folders/x5/ml5dd1h14kzbwjdt0wmhps480000gn/T/ipykernel_35323/753173694.py:19: FutureWarning: The frame.append method is deprecated and will be removed from pandas in a future version. Use pandas.concat instead.\n",
      "  df_comments = df_comments.append(json_to_row)\n",
      "/var/folders/x5/ml5dd1h14kzbwjdt0wmhps480000gn/T/ipykernel_35323/753173694.py:19: FutureWarning: The frame.append method is deprecated and will be removed from pandas in a future version. Use pandas.concat instead.\n",
      "  df_comments = df_comments.append(json_to_row)\n",
      "/var/folders/x5/ml5dd1h14kzbwjdt0wmhps480000gn/T/ipykernel_35323/753173694.py:19: FutureWarning: The frame.append method is deprecated and will be removed from pandas in a future version. Use pandas.concat instead.\n",
      "  df_comments = df_comments.append(json_to_row)\n",
      "/var/folders/x5/ml5dd1h14kzbwjdt0wmhps480000gn/T/ipykernel_35323/753173694.py:19: FutureWarning: The frame.append method is deprecated and will be removed from pandas in a future version. Use pandas.concat instead.\n",
      "  df_comments = df_comments.append(json_to_row)\n",
      "/var/folders/x5/ml5dd1h14kzbwjdt0wmhps480000gn/T/ipykernel_35323/753173694.py:19: FutureWarning: The frame.append method is deprecated and will be removed from pandas in a future version. Use pandas.concat instead.\n",
      "  df_comments = df_comments.append(json_to_row)\n",
      "/var/folders/x5/ml5dd1h14kzbwjdt0wmhps480000gn/T/ipykernel_35323/753173694.py:19: FutureWarning: The frame.append method is deprecated and will be removed from pandas in a future version. Use pandas.concat instead.\n",
      "  df_comments = df_comments.append(json_to_row)\n",
      "/var/folders/x5/ml5dd1h14kzbwjdt0wmhps480000gn/T/ipykernel_35323/753173694.py:19: FutureWarning: The frame.append method is deprecated and will be removed from pandas in a future version. Use pandas.concat instead.\n",
      "  df_comments = df_comments.append(json_to_row)\n",
      "/var/folders/x5/ml5dd1h14kzbwjdt0wmhps480000gn/T/ipykernel_35323/753173694.py:19: FutureWarning: The frame.append method is deprecated and will be removed from pandas in a future version. Use pandas.concat instead.\n",
      "  df_comments = df_comments.append(json_to_row)\n",
      "/var/folders/x5/ml5dd1h14kzbwjdt0wmhps480000gn/T/ipykernel_35323/753173694.py:19: FutureWarning: The frame.append method is deprecated and will be removed from pandas in a future version. Use pandas.concat instead.\n",
      "  df_comments = df_comments.append(json_to_row)\n",
      "/var/folders/x5/ml5dd1h14kzbwjdt0wmhps480000gn/T/ipykernel_35323/753173694.py:19: FutureWarning: The frame.append method is deprecated and will be removed from pandas in a future version. Use pandas.concat instead.\n",
      "  df_comments = df_comments.append(json_to_row)\n",
      "/var/folders/x5/ml5dd1h14kzbwjdt0wmhps480000gn/T/ipykernel_35323/753173694.py:19: FutureWarning: The frame.append method is deprecated and will be removed from pandas in a future version. Use pandas.concat instead.\n",
      "  df_comments = df_comments.append(json_to_row)\n",
      "/var/folders/x5/ml5dd1h14kzbwjdt0wmhps480000gn/T/ipykernel_35323/753173694.py:19: FutureWarning: The frame.append method is deprecated and will be removed from pandas in a future version. Use pandas.concat instead.\n",
      "  df_comments = df_comments.append(json_to_row)\n",
      "/var/folders/x5/ml5dd1h14kzbwjdt0wmhps480000gn/T/ipykernel_35323/753173694.py:19: FutureWarning: The frame.append method is deprecated and will be removed from pandas in a future version. Use pandas.concat instead.\n",
      "  df_comments = df_comments.append(json_to_row)\n"
     ]
    }
   ],
   "source": [
    "# retrieving the response in JSON; the \"headers\" argument tells Reddit \"who\" is asking for data to prevent \"too many requests\" errors\n",
    "response = requests.get(\"https://www.reddit.com/r/movies/comments/2ysbqi/official_discussion_cinderella_2015_spoilers.json\", headers = {'User-agent': 'ISA 514/414'})\n",
    "response = response.json()\n",
    "\n",
    "# retrieving post info: first key-value pair, i.e., position 0 in the JSON file\n",
    "df_post = pandas.json_normalize(response[0][\"data\"][\"children\"][0][\"data\"])\n",
    "\n",
    "# creating an empty data frame\n",
    "df_comments = pandas.DataFrame()\n",
    "\n",
    "# retrieving comments info: second key-value pair, i.e., position 1 in the JSON file\n",
    "# for each post in the data -> children branch\n",
    "for post in response[1][\"data\"][\"children\"]:\n",
    "\n",
    "    # create a row for the values associated with the 'data' key\n",
    "    json_to_row = pandas.json_normalize(post[\"data\"])\n",
    "\n",
    "    # append data to empty data frame\n",
    "    df_comments = df_comments.append(json_to_row)\n",
    " \n",
    "## Save subset of df_comments that contains only the comment text\n",
    "cinderella_2015_comments = df_comments[['body']]"
   ]
  },
  {
   "cell_type": "markdown",
   "metadata": {},
   "source": [
    "#### Subreddit 4: Amazon's Cinderella Movie Reviews"
   ]
  },
  {
   "cell_type": "code",
   "execution_count": 30,
   "metadata": {},
   "outputs": [
    {
     "name": "stderr",
     "output_type": "stream",
     "text": [
      "/var/folders/x5/ml5dd1h14kzbwjdt0wmhps480000gn/T/ipykernel_35323/2297134144.py:19: FutureWarning: The frame.append method is deprecated and will be removed from pandas in a future version. Use pandas.concat instead.\n",
      "  df_comments = df_comments.append(json_to_row)\n",
      "/var/folders/x5/ml5dd1h14kzbwjdt0wmhps480000gn/T/ipykernel_35323/2297134144.py:19: FutureWarning: The frame.append method is deprecated and will be removed from pandas in a future version. Use pandas.concat instead.\n",
      "  df_comments = df_comments.append(json_to_row)\n",
      "/var/folders/x5/ml5dd1h14kzbwjdt0wmhps480000gn/T/ipykernel_35323/2297134144.py:19: FutureWarning: The frame.append method is deprecated and will be removed from pandas in a future version. Use pandas.concat instead.\n",
      "  df_comments = df_comments.append(json_to_row)\n",
      "/var/folders/x5/ml5dd1h14kzbwjdt0wmhps480000gn/T/ipykernel_35323/2297134144.py:19: FutureWarning: The frame.append method is deprecated and will be removed from pandas in a future version. Use pandas.concat instead.\n",
      "  df_comments = df_comments.append(json_to_row)\n",
      "/var/folders/x5/ml5dd1h14kzbwjdt0wmhps480000gn/T/ipykernel_35323/2297134144.py:19: FutureWarning: The frame.append method is deprecated and will be removed from pandas in a future version. Use pandas.concat instead.\n",
      "  df_comments = df_comments.append(json_to_row)\n",
      "/var/folders/x5/ml5dd1h14kzbwjdt0wmhps480000gn/T/ipykernel_35323/2297134144.py:19: FutureWarning: The frame.append method is deprecated and will be removed from pandas in a future version. Use pandas.concat instead.\n",
      "  df_comments = df_comments.append(json_to_row)\n",
      "/var/folders/x5/ml5dd1h14kzbwjdt0wmhps480000gn/T/ipykernel_35323/2297134144.py:19: FutureWarning: The frame.append method is deprecated and will be removed from pandas in a future version. Use pandas.concat instead.\n",
      "  df_comments = df_comments.append(json_to_row)\n",
      "/var/folders/x5/ml5dd1h14kzbwjdt0wmhps480000gn/T/ipykernel_35323/2297134144.py:19: FutureWarning: The frame.append method is deprecated and will be removed from pandas in a future version. Use pandas.concat instead.\n",
      "  df_comments = df_comments.append(json_to_row)\n",
      "/var/folders/x5/ml5dd1h14kzbwjdt0wmhps480000gn/T/ipykernel_35323/2297134144.py:19: FutureWarning: The frame.append method is deprecated and will be removed from pandas in a future version. Use pandas.concat instead.\n",
      "  df_comments = df_comments.append(json_to_row)\n",
      "/var/folders/x5/ml5dd1h14kzbwjdt0wmhps480000gn/T/ipykernel_35323/2297134144.py:19: FutureWarning: The frame.append method is deprecated and will be removed from pandas in a future version. Use pandas.concat instead.\n",
      "  df_comments = df_comments.append(json_to_row)\n",
      "/var/folders/x5/ml5dd1h14kzbwjdt0wmhps480000gn/T/ipykernel_35323/2297134144.py:19: FutureWarning: Behavior when concatenating bool-dtype and numeric-dtype arrays is deprecated; in a future version these will cast to object dtype (instead of coercing bools to numeric values). To retain the old behavior, explicitly cast bool-dtype arrays to numeric dtype.\n",
      "  df_comments = df_comments.append(json_to_row)\n",
      "/var/folders/x5/ml5dd1h14kzbwjdt0wmhps480000gn/T/ipykernel_35323/2297134144.py:19: FutureWarning: The frame.append method is deprecated and will be removed from pandas in a future version. Use pandas.concat instead.\n",
      "  df_comments = df_comments.append(json_to_row)\n",
      "/var/folders/x5/ml5dd1h14kzbwjdt0wmhps480000gn/T/ipykernel_35323/2297134144.py:19: FutureWarning: The frame.append method is deprecated and will be removed from pandas in a future version. Use pandas.concat instead.\n",
      "  df_comments = df_comments.append(json_to_row)\n",
      "/var/folders/x5/ml5dd1h14kzbwjdt0wmhps480000gn/T/ipykernel_35323/2297134144.py:19: FutureWarning: The frame.append method is deprecated and will be removed from pandas in a future version. Use pandas.concat instead.\n",
      "  df_comments = df_comments.append(json_to_row)\n",
      "/var/folders/x5/ml5dd1h14kzbwjdt0wmhps480000gn/T/ipykernel_35323/2297134144.py:19: FutureWarning: The frame.append method is deprecated and will be removed from pandas in a future version. Use pandas.concat instead.\n",
      "  df_comments = df_comments.append(json_to_row)\n",
      "/var/folders/x5/ml5dd1h14kzbwjdt0wmhps480000gn/T/ipykernel_35323/2297134144.py:19: FutureWarning: The frame.append method is deprecated and will be removed from pandas in a future version. Use pandas.concat instead.\n",
      "  df_comments = df_comments.append(json_to_row)\n",
      "/var/folders/x5/ml5dd1h14kzbwjdt0wmhps480000gn/T/ipykernel_35323/2297134144.py:19: FutureWarning: The frame.append method is deprecated and will be removed from pandas in a future version. Use pandas.concat instead.\n",
      "  df_comments = df_comments.append(json_to_row)\n",
      "/var/folders/x5/ml5dd1h14kzbwjdt0wmhps480000gn/T/ipykernel_35323/2297134144.py:19: FutureWarning: The frame.append method is deprecated and will be removed from pandas in a future version. Use pandas.concat instead.\n",
      "  df_comments = df_comments.append(json_to_row)\n",
      "/var/folders/x5/ml5dd1h14kzbwjdt0wmhps480000gn/T/ipykernel_35323/2297134144.py:19: FutureWarning: The frame.append method is deprecated and will be removed from pandas in a future version. Use pandas.concat instead.\n",
      "  df_comments = df_comments.append(json_to_row)\n",
      "/var/folders/x5/ml5dd1h14kzbwjdt0wmhps480000gn/T/ipykernel_35323/2297134144.py:19: FutureWarning: The frame.append method is deprecated and will be removed from pandas in a future version. Use pandas.concat instead.\n",
      "  df_comments = df_comments.append(json_to_row)\n",
      "/var/folders/x5/ml5dd1h14kzbwjdt0wmhps480000gn/T/ipykernel_35323/2297134144.py:19: FutureWarning: The frame.append method is deprecated and will be removed from pandas in a future version. Use pandas.concat instead.\n",
      "  df_comments = df_comments.append(json_to_row)\n",
      "/var/folders/x5/ml5dd1h14kzbwjdt0wmhps480000gn/T/ipykernel_35323/2297134144.py:19: FutureWarning: The frame.append method is deprecated and will be removed from pandas in a future version. Use pandas.concat instead.\n",
      "  df_comments = df_comments.append(json_to_row)\n",
      "/var/folders/x5/ml5dd1h14kzbwjdt0wmhps480000gn/T/ipykernel_35323/2297134144.py:19: FutureWarning: The frame.append method is deprecated and will be removed from pandas in a future version. Use pandas.concat instead.\n",
      "  df_comments = df_comments.append(json_to_row)\n",
      "/var/folders/x5/ml5dd1h14kzbwjdt0wmhps480000gn/T/ipykernel_35323/2297134144.py:19: FutureWarning: The frame.append method is deprecated and will be removed from pandas in a future version. Use pandas.concat instead.\n",
      "  df_comments = df_comments.append(json_to_row)\n",
      "/var/folders/x5/ml5dd1h14kzbwjdt0wmhps480000gn/T/ipykernel_35323/2297134144.py:19: FutureWarning: The frame.append method is deprecated and will be removed from pandas in a future version. Use pandas.concat instead.\n",
      "  df_comments = df_comments.append(json_to_row)\n",
      "/var/folders/x5/ml5dd1h14kzbwjdt0wmhps480000gn/T/ipykernel_35323/2297134144.py:19: FutureWarning: The frame.append method is deprecated and will be removed from pandas in a future version. Use pandas.concat instead.\n",
      "  df_comments = df_comments.append(json_to_row)\n",
      "/var/folders/x5/ml5dd1h14kzbwjdt0wmhps480000gn/T/ipykernel_35323/2297134144.py:19: FutureWarning: The frame.append method is deprecated and will be removed from pandas in a future version. Use pandas.concat instead.\n",
      "  df_comments = df_comments.append(json_to_row)\n",
      "/var/folders/x5/ml5dd1h14kzbwjdt0wmhps480000gn/T/ipykernel_35323/2297134144.py:19: FutureWarning: The frame.append method is deprecated and will be removed from pandas in a future version. Use pandas.concat instead.\n",
      "  df_comments = df_comments.append(json_to_row)\n",
      "/var/folders/x5/ml5dd1h14kzbwjdt0wmhps480000gn/T/ipykernel_35323/2297134144.py:19: FutureWarning: The frame.append method is deprecated and will be removed from pandas in a future version. Use pandas.concat instead.\n",
      "  df_comments = df_comments.append(json_to_row)\n",
      "/var/folders/x5/ml5dd1h14kzbwjdt0wmhps480000gn/T/ipykernel_35323/2297134144.py:19: FutureWarning: The frame.append method is deprecated and will be removed from pandas in a future version. Use pandas.concat instead.\n",
      "  df_comments = df_comments.append(json_to_row)\n",
      "/var/folders/x5/ml5dd1h14kzbwjdt0wmhps480000gn/T/ipykernel_35323/2297134144.py:19: FutureWarning: The frame.append method is deprecated and will be removed from pandas in a future version. Use pandas.concat instead.\n",
      "  df_comments = df_comments.append(json_to_row)\n",
      "/var/folders/x5/ml5dd1h14kzbwjdt0wmhps480000gn/T/ipykernel_35323/2297134144.py:19: FutureWarning: The frame.append method is deprecated and will be removed from pandas in a future version. Use pandas.concat instead.\n",
      "  df_comments = df_comments.append(json_to_row)\n",
      "/var/folders/x5/ml5dd1h14kzbwjdt0wmhps480000gn/T/ipykernel_35323/2297134144.py:19: FutureWarning: The frame.append method is deprecated and will be removed from pandas in a future version. Use pandas.concat instead.\n",
      "  df_comments = df_comments.append(json_to_row)\n",
      "/var/folders/x5/ml5dd1h14kzbwjdt0wmhps480000gn/T/ipykernel_35323/2297134144.py:19: FutureWarning: The frame.append method is deprecated and will be removed from pandas in a future version. Use pandas.concat instead.\n",
      "  df_comments = df_comments.append(json_to_row)\n",
      "/var/folders/x5/ml5dd1h14kzbwjdt0wmhps480000gn/T/ipykernel_35323/2297134144.py:19: FutureWarning: The frame.append method is deprecated and will be removed from pandas in a future version. Use pandas.concat instead.\n",
      "  df_comments = df_comments.append(json_to_row)\n",
      "/var/folders/x5/ml5dd1h14kzbwjdt0wmhps480000gn/T/ipykernel_35323/2297134144.py:19: FutureWarning: The frame.append method is deprecated and will be removed from pandas in a future version. Use pandas.concat instead.\n",
      "  df_comments = df_comments.append(json_to_row)\n",
      "/var/folders/x5/ml5dd1h14kzbwjdt0wmhps480000gn/T/ipykernel_35323/2297134144.py:19: FutureWarning: The frame.append method is deprecated and will be removed from pandas in a future version. Use pandas.concat instead.\n",
      "  df_comments = df_comments.append(json_to_row)\n",
      "/var/folders/x5/ml5dd1h14kzbwjdt0wmhps480000gn/T/ipykernel_35323/2297134144.py:19: FutureWarning: The frame.append method is deprecated and will be removed from pandas in a future version. Use pandas.concat instead.\n",
      "  df_comments = df_comments.append(json_to_row)\n",
      "/var/folders/x5/ml5dd1h14kzbwjdt0wmhps480000gn/T/ipykernel_35323/2297134144.py:19: FutureWarning: The frame.append method is deprecated and will be removed from pandas in a future version. Use pandas.concat instead.\n",
      "  df_comments = df_comments.append(json_to_row)\n",
      "/var/folders/x5/ml5dd1h14kzbwjdt0wmhps480000gn/T/ipykernel_35323/2297134144.py:19: FutureWarning: The frame.append method is deprecated and will be removed from pandas in a future version. Use pandas.concat instead.\n",
      "  df_comments = df_comments.append(json_to_row)\n",
      "/var/folders/x5/ml5dd1h14kzbwjdt0wmhps480000gn/T/ipykernel_35323/2297134144.py:19: FutureWarning: The frame.append method is deprecated and will be removed from pandas in a future version. Use pandas.concat instead.\n",
      "  df_comments = df_comments.append(json_to_row)\n",
      "/var/folders/x5/ml5dd1h14kzbwjdt0wmhps480000gn/T/ipykernel_35323/2297134144.py:19: FutureWarning: The frame.append method is deprecated and will be removed from pandas in a future version. Use pandas.concat instead.\n",
      "  df_comments = df_comments.append(json_to_row)\n"
     ]
    }
   ],
   "source": [
    "# retrieving the response in JSON; the \"headers\" argument tells Reddit \"who\" is asking for data to prevent \"too many requests\" errors\n",
    "response = requests.get(\"https://www.reddit.com/r/movies/comments/phcg6n/cinderella_on_amazon_with_camila_cabello.json\", headers = {'User-agent': 'ISA 514/414'})\n",
    "response = response.json()\n",
    "\n",
    "# retrieving post info: first key-value pair, i.e., position 0 in the JSON file\n",
    "df_post = pandas.json_normalize(response[0][\"data\"][\"children\"][0][\"data\"])\n",
    "\n",
    "# creating an empty data frame\n",
    "df_comments = pandas.DataFrame()\n",
    "\n",
    "# retrieving comments info: second key-value pair, i.e., position 1 in the JSON file\n",
    "# for each post in the data -> children branch\n",
    "for post in response[1][\"data\"][\"children\"]:\n",
    "\n",
    "    # create a row for the values associated with the 'data' key\n",
    "    json_to_row = pandas.json_normalize(post[\"data\"])\n",
    "\n",
    "    # append data to empty data frame\n",
    "    df_comments = df_comments.append(json_to_row)\n",
    "    \n",
    "## Save subset of df_comments that contains only the comment text\n",
    "cinderella_amazon_comments = df_comments[['body']]"
   ]
  },
  {
   "cell_type": "markdown",
   "metadata": {},
   "source": [
    "## Creating a Sentiment Analyzer Function:\n",
    "Using this function allows us to reuse the sentiment analysis code when evaluating the comments from each subreddit. "
   ]
  },
  {
   "cell_type": "code",
   "execution_count": 32,
   "metadata": {},
   "outputs": [],
   "source": [
    "from sklearn.feature_extraction.text import TfidfVectorizer\n",
    "\n",
    "def sentiment_analyzer (df): \n",
    "\n",
    "    raw_data = df\n",
    "    enc = TfidfVectorizer(use_idf = False)\n",
    "    sparse_matrix = enc.fit_transform(raw_data[\"body\"])\n",
    "    all_word_names = enc.get_feature_names()\n",
    "\n",
    "    file = open('positive-words.txt', 'r')\n",
    "    positive_words = file.read().splitlines() \n",
    "\n",
    "    file = open('negative-words.txt', 'r')\n",
    "    negative_words = file.read().splitlines() \n",
    "\n",
    "    positive_comments = 0;\n",
    "    negative_comments =0;\n",
    "    for i in range(0, len(raw_data)):\n",
    "\n",
    "        rows, columns = sparse_matrix[i,:].nonzero()\n",
    "        doc_word_names = [all_word_names[index] for index in columns]\n",
    "\n",
    "\n",
    "        doc_positive_words = [positive_words.count(word) for word in doc_word_names]\n",
    "        doc_negative_words = [negative_words.count(word) for word in doc_word_names]\n",
    "\n",
    "        score = sum(doc_positive_words) - sum(doc_negative_words)\n",
    "        if score > 0: positive_comments = positive_comments + 1\n",
    "        if score < 0: negative_comments = negative_comments + 1\n",
    "\n",
    "    result1 = pd.DataFrame(data = {'Positive Comments': [positive_comments], 'Negative Comments': [negative_comments]})\n",
    "    positivity_percentage = positive_comments / (positive_comments + negative_comments)\n",
    "    return positivity_percentage\n"
   ]
  },
  {
   "cell_type": "code",
   "execution_count": 33,
   "metadata": {},
   "outputs": [
    {
     "name": "stdout",
     "output_type": "stream",
     "text": [
      "75 percent of the comments are Positive for the Cruella movie \n"
     ]
    },
    {
     "name": "stderr",
     "output_type": "stream",
     "text": [
      "/Users/ginakrynski/Library/Python/3.8/lib/python/site-packages/sklearn/utils/deprecation.py:87: FutureWarning: Function get_feature_names is deprecated; get_feature_names is deprecated in 1.0 and will be removed in 1.2. Please use get_feature_names_out instead.\n",
      "  warnings.warn(msg, category=FutureWarning)\n"
     ]
    }
   ],
   "source": [
    "cruella_results = sentiment_analyzer(cruella_comments)\n",
    "print(str(int(cruella_results * 100)) + \" percent of the comments are Positive for the Cruella movie \")"
   ]
  },
  {
   "cell_type": "code",
   "execution_count": 34,
   "metadata": {},
   "outputs": [
    {
     "name": "stdout",
     "output_type": "stream",
     "text": [
      "55 percent of the comments are Positive for the Mulan movie \n"
     ]
    }
   ],
   "source": [
    "mulan_results = sentiment_analyzer(mulan_comments)\n",
    "print(str(int(mulan_results * 100)) + \" percent of the comments are Positive for the Mulan movie \")\n"
   ]
  },
  {
   "cell_type": "code",
   "execution_count": 35,
   "metadata": {},
   "outputs": [
    {
     "name": "stdout",
     "output_type": "stream",
     "text": [
      "85 percent of the comments are Positive for the Disneys 2015 Cinderella movie \n"
     ]
    }
   ],
   "source": [
    "cinderella_2015_comments = cinderella_2015_comments.dropna()\n",
    "cinderella_2015_results = sentiment_analyzer(cinderella_2015_comments)\n",
    "print(str(int(cinderella_2015_results * 100)) + \" percent of the comments are Positive for the Disneys 2015 Cinderella movie \")\n",
    "\n"
   ]
  },
  {
   "cell_type": "code",
   "execution_count": 36,
   "metadata": {},
   "outputs": [
    {
     "name": "stdout",
     "output_type": "stream",
     "text": [
      "65 percent of the comments are Positive for Amazon's Cinderella movie \n"
     ]
    }
   ],
   "source": [
    "cinderella_amazon_results = sentiment_analyzer(cinderella_amazon_comments)\n",
    "print(str(int(cinderella_amazon_results * 100)) + \" percent of the comments are Positive for Amazon's Cinderella movie \")\n"
   ]
  }
 ],
 "metadata": {
  "interpreter": {
   "hash": "fe8c250ecc65b9c312d9907a34fb25acb60718286033c0aea00268d1f05cce17"
  },
  "kernelspec": {
   "display_name": "Python 3.7.11 ('base')",
   "language": "python",
   "name": "python3"
  },
  "language_info": {
   "codemirror_mode": {
    "name": "ipython",
    "version": 3
   },
   "file_extension": ".py",
   "mimetype": "text/x-python",
   "name": "python",
   "nbconvert_exporter": "python",
   "pygments_lexer": "ipython3",
   "version": "3.8.2"
  },
  "orig_nbformat": 4
 },
 "nbformat": 4,
 "nbformat_minor": 2
}
